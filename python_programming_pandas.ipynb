{
  "nbformat": 4,
  "nbformat_minor": 0,
  "metadata": {
    "colab": {
      "provenance": []
    },
    "kernelspec": {
      "name": "python3",
      "display_name": "Python 3"
    },
    "language_info": {
      "name": "python"
    }
  },
  "cells": [
    {
      "cell_type": "code",
      "source": [
        "import pandas as pd"
      ],
      "metadata": {
        "id": "aCNDxvDVqqJh"
      },
      "execution_count": 32,
      "outputs": []
    },
    {
      "cell_type": "markdown",
      "source": [
        "**Basic info**"
      ],
      "metadata": {
        "id": "1V-H6_bqsswg"
      }
    },
    {
      "cell_type": "code",
      "execution_count": 33,
      "metadata": {
        "colab": {
          "base_uri": "https://localhost:8080/"
        },
        "id": "WmE4xk1nnwiI",
        "outputId": "8e324280-4ed2-4e16-979c-9964346b5810"
      },
      "outputs": [
        {
          "output_type": "stream",
          "name": "stdout",
          "text": [
            "      Name  Age  Salary\n",
            "0    Alice   25   50000\n",
            "1      Bob   30   60000\n",
            "2  Charlie   35   70000\n",
            "======================================\n",
            "<class 'pandas.core.frame.DataFrame'>\n",
            "RangeIndex: 3 entries, 0 to 2\n",
            "Data columns (total 3 columns):\n",
            " #   Column  Non-Null Count  Dtype \n",
            "---  ------  --------------  ----- \n",
            " 0   Name    3 non-null      object\n",
            " 1   Age     3 non-null      int64 \n",
            " 2   Salary  3 non-null      int64 \n",
            "dtypes: int64(2), object(1)\n",
            "memory usage: 204.0+ bytes\n",
            "None\n",
            "======================================\n",
            "        Age   Salary\n",
            "count   3.0      3.0\n",
            "mean   30.0  60000.0\n",
            "std     5.0  10000.0\n",
            "min    25.0  50000.0\n",
            "25%    27.5  55000.0\n",
            "50%    30.0  60000.0\n",
            "75%    32.5  65000.0\n",
            "max    35.0  70000.0\n",
            "======================================\n",
            "(3, 3)\n"
          ]
        }
      ],
      "source": [
        "# Sample DataFrame\n",
        "data = {\n",
        "    'Name': ['Alice', 'Bob', 'Charlie'],\n",
        "    'Age': [25, 30, 35],\n",
        "    'Salary': [50000, 60000, 70000]\n",
        "}\n",
        "df = pd.DataFrame(data)\n",
        "\n",
        "# Display the DataFrame\n",
        "print(df)\n",
        "print('======================================')\n",
        "# Basic Info\n",
        "print(df.info())       # Data types, non-null counts\n",
        "print('======================================')\n",
        "print(df.describe())   # Statistical summary\n",
        "print('======================================')\n",
        "print(df.shape)"
      ]
    },
    {
      "cell_type": "code",
      "source": [
        "print(df[\"Age\"].unique())\n",
        "print(\"========================================\")\n",
        "print(df['Age'].value_counts())"
      ],
      "metadata": {
        "colab": {
          "base_uri": "https://localhost:8080/"
        },
        "id": "erubRqrV4_VB",
        "outputId": "a5213b08-8825-46a5-9e46-aed1d8c7e0c4"
      },
      "execution_count": 34,
      "outputs": [
        {
          "output_type": "stream",
          "name": "stdout",
          "text": [
            "[25 30 35]\n",
            "========================================\n",
            "Age\n",
            "25    1\n",
            "30    1\n",
            "35    1\n",
            "Name: count, dtype: int64\n"
          ]
        }
      ]
    },
    {
      "cell_type": "markdown",
      "source": [
        "**Duplicate**"
      ],
      "metadata": {
        "id": "84i49UOWFMKf"
      }
    },
    {
      "cell_type": "code",
      "source": [
        "data1 = {\n",
        "    'A': [1, 2, 2, 3, 4, 4, 5],\n",
        "    'B': ['x', 'y', 'y', 'z', 'w', 'w', 'v']\n",
        "}\n",
        "df1 = pd.DataFrame(data1)\n",
        "\n",
        "#Identify Duplicate Rows\n",
        "print(df1.duplicated())  # True for duplicate rows\n",
        "print(\"========================================\")\n",
        "# Find duplicate rows\n",
        "duplicates = df1[df1.duplicated()]\n",
        "print(duplicates)\n",
        "print(\"========================================\")\n",
        "# Find count of duplicate rows\n",
        "duplicates = df1[df1.duplicated()]\n",
        "print(len(duplicates))\n",
        "print(\"========================================\")\n",
        "# Drop duplicate rows, keeping the first occurrence\n",
        "deduplicated_df = df1.drop_duplicates()\n",
        "print(deduplicated_df)\n",
        "print(\"========================================\")\n",
        "# Drop duplicates based on column 'A' only\n",
        "deduplicated_subset_df = df1.drop_duplicates(subset=['A'])\n",
        "print(deduplicated_subset_df)"
      ],
      "metadata": {
        "colab": {
          "base_uri": "https://localhost:8080/"
        },
        "id": "xmc_BF4O-jmr",
        "outputId": "4e97828a-5006-413c-d344-5f0724228902"
      },
      "execution_count": 35,
      "outputs": [
        {
          "output_type": "stream",
          "name": "stdout",
          "text": [
            "0    False\n",
            "1    False\n",
            "2     True\n",
            "3    False\n",
            "4    False\n",
            "5     True\n",
            "6    False\n",
            "dtype: bool\n",
            "========================================\n",
            "   A  B\n",
            "2  2  y\n",
            "5  4  w\n",
            "========================================\n",
            "2\n",
            "========================================\n",
            "   A  B\n",
            "0  1  x\n",
            "1  2  y\n",
            "3  3  z\n",
            "4  4  w\n",
            "6  5  v\n",
            "========================================\n",
            "   A  B\n",
            "0  1  x\n",
            "1  2  y\n",
            "3  3  z\n",
            "4  4  w\n",
            "6  5  v\n"
          ]
        }
      ]
    },
    {
      "cell_type": "markdown",
      "source": [
        "**Reading Data**"
      ],
      "metadata": {
        "id": "G_OKgXamsykl"
      }
    },
    {
      "cell_type": "code",
      "source": [
        "# Reading data\n",
        "'''\n",
        "df_csv = pd.read_csv('data.csv')           # CSV\n",
        "df_excel = pd.read_excel('data.xlsx')     # Excel\n",
        "df_json = pd.read_json('data.json')       # JSON\n",
        "\n",
        "# Writing data\n",
        "df.to_csv('output.csv', index=False)\n",
        "df.to_excel('output.xlsx', index=False)\n",
        "df.to_json('output.json', orient='records')\n",
        "'''"
      ],
      "metadata": {
        "colab": {
          "base_uri": "https://localhost:8080/",
          "height": 53
        },
        "id": "rUTlqWq7rdGR",
        "outputId": "f14e050f-0ad1-4d6c-e390-d29019edc990"
      },
      "execution_count": 36,
      "outputs": [
        {
          "output_type": "execute_result",
          "data": {
            "text/plain": [
              "\"\\ndf_csv = pd.read_csv('data.csv')           # CSV\\ndf_excel = pd.read_excel('data.xlsx')     # Excel\\ndf_json = pd.read_json('data.json')       # JSON\\n\\n# Writing data\\ndf.to_csv('output.csv', index=False)\\ndf.to_excel('output.xlsx', index=False)\\ndf.to_json('output.json', orient='records')\\n\""
            ],
            "application/vnd.google.colaboratory.intrinsic+json": {
              "type": "string"
            }
          },
          "metadata": {},
          "execution_count": 36
        }
      ]
    },
    {
      "cell_type": "markdown",
      "source": [
        "**Selection on columns**"
      ],
      "metadata": {
        "id": "HCKDSf1BtT5Y"
      }
    },
    {
      "cell_type": "code",
      "source": [
        "# Select column\n",
        "print(df['Name'])\n",
        "print('======================================')\n",
        "# Select multiple columns\n",
        "print(df[['Name', 'Salary']])\n",
        "print('======================================')\n",
        "# Conditional selection\n",
        "print(df[df['Age'] > 25])\n",
        "print('======================================')\n",
        "print(df[['Name', 'Salary']][0:2])\n"
      ],
      "metadata": {
        "colab": {
          "base_uri": "https://localhost:8080/"
        },
        "id": "hVcPMLKEtJrK",
        "outputId": "bad92b1e-a039-43e5-d9f8-61dfb64845e8"
      },
      "execution_count": 37,
      "outputs": [
        {
          "output_type": "stream",
          "name": "stdout",
          "text": [
            "0      Alice\n",
            "1        Bob\n",
            "2    Charlie\n",
            "Name: Name, dtype: object\n",
            "======================================\n",
            "      Name  Salary\n",
            "0    Alice   50000\n",
            "1      Bob   60000\n",
            "2  Charlie   70000\n",
            "======================================\n",
            "      Name  Age  Salary\n",
            "1      Bob   30   60000\n",
            "2  Charlie   35   70000\n",
            "======================================\n",
            "    Name  Salary\n",
            "0  Alice   50000\n",
            "1    Bob   60000\n"
          ]
        }
      ]
    },
    {
      "cell_type": "markdown",
      "source": [
        "**Selection of rows**"
      ],
      "metadata": {
        "id": "DNJZViUXs11y"
      }
    },
    {
      "cell_type": "code",
      "source": [
        "# Access a row by position\n",
        "print(df.iloc[0])  # First row\n",
        "print('======================================')\n",
        "# Access multiple rows by positions\n",
        "print(df.iloc[[0, 2]])\n",
        "print('======================================')\n",
        "# Access a range of rows (exclusive of end)\n",
        "print(df.iloc[0:2])  # Rows 0 and 1\n",
        "print('======================================')\n",
        "# Access specific cells\n",
        "print(df.iloc[0, 1])  # Value at first row, second column\n"
      ],
      "metadata": {
        "colab": {
          "base_uri": "https://localhost:8080/"
        },
        "id": "UCsQ-Y_dricl",
        "outputId": "8ade277c-cd92-4896-a94d-97e87a2be619"
      },
      "execution_count": 38,
      "outputs": [
        {
          "output_type": "stream",
          "name": "stdout",
          "text": [
            "Name      Alice\n",
            "Age          25\n",
            "Salary    50000\n",
            "Name: 0, dtype: object\n",
            "======================================\n",
            "      Name  Age  Salary\n",
            "0    Alice   25   50000\n",
            "2  Charlie   35   70000\n",
            "======================================\n",
            "    Name  Age  Salary\n",
            "0  Alice   25   50000\n",
            "1    Bob   30   60000\n",
            "======================================\n",
            "25\n"
          ]
        }
      ]
    },
    {
      "cell_type": "markdown",
      "source": [
        "**Adding columns**"
      ],
      "metadata": {
        "id": "oPL1h7lUvuDv"
      }
    },
    {
      "cell_type": "code",
      "source": [
        "# Add new column\n",
        "df['Bonus'] = df['Salary'] * 0.1\n",
        "\n",
        "# Drop a column\n",
        "df = df.drop('Bonus', axis=1)  # axis=1 for column"
      ],
      "metadata": {
        "id": "zR_6PnMmvp-a"
      },
      "execution_count": 39,
      "outputs": []
    },
    {
      "cell_type": "markdown",
      "source": [
        "**Missing values**"
      ],
      "metadata": {
        "id": "zuR4XZCBwG0n"
      }
    },
    {
      "cell_type": "code",
      "source": [
        "# Introduce missing data\n",
        "df.loc[1, 'Age'] = None\n",
        "print('======================================')\n",
        "# Check for nulls\n",
        "print(df.isnull())\n",
        "print('======================================')\n",
        "print(df.isnull().sum())\n",
        "print('======================================')\n",
        "# Fill missing values\n",
        "df['Age'].fillna(df['Age'].mean(), inplace=True)\n",
        "print(df)\n",
        "# Drop rows with missing values\n",
        "df.dropna(inplace=True)\n"
      ],
      "metadata": {
        "colab": {
          "base_uri": "https://localhost:8080/"
        },
        "id": "Cx9j0U74wGeb",
        "outputId": "79c0d0fd-aa9a-44e5-d289-ddc48bf96db7"
      },
      "execution_count": 40,
      "outputs": [
        {
          "output_type": "stream",
          "name": "stdout",
          "text": [
            "======================================\n",
            "    Name    Age  Salary\n",
            "0  False  False   False\n",
            "1  False   True   False\n",
            "2  False  False   False\n",
            "======================================\n",
            "Name      0\n",
            "Age       1\n",
            "Salary    0\n",
            "dtype: int64\n",
            "======================================\n",
            "      Name   Age  Salary\n",
            "0    Alice  25.0   50000\n",
            "1      Bob  30.0   60000\n",
            "2  Charlie  35.0   70000\n"
          ]
        },
        {
          "output_type": "stream",
          "name": "stderr",
          "text": [
            "<ipython-input-40-b4d258251217>:10: FutureWarning: A value is trying to be set on a copy of a DataFrame or Series through chained assignment using an inplace method.\n",
            "The behavior will change in pandas 3.0. This inplace method will never work because the intermediate object on which we are setting values always behaves as a copy.\n",
            "\n",
            "For example, when doing 'df[col].method(value, inplace=True)', try using 'df.method({col: value}, inplace=True)' or df[col] = df[col].method(value) instead, to perform the operation inplace on the original object.\n",
            "\n",
            "\n",
            "  df['Age'].fillna(df['Age'].mean(), inplace=True)\n"
          ]
        }
      ]
    },
    {
      "cell_type": "markdown",
      "source": [
        "**Data transformation**"
      ],
      "metadata": {
        "id": "MUY1e_ELy1LK"
      }
    },
    {
      "cell_type": "code",
      "source": [
        "# Apply functions\n",
        "df['Age'] = df['Age'].apply(lambda x: x + 1)\n",
        "print(df)\n",
        "print('======================================')\n",
        "\n",
        "# Map values\n",
        "df['Name'] = df['Name'].map({'Alice': 'Alicia', 'Bob': 'Robert'}).fillna(df['Name'])\n",
        "print(df)\n",
        "print('======================================')\n",
        "\n",
        "# String operations\n",
        "df['Name'] = df['Name'].str.upper()\n",
        "print(df)\n"
      ],
      "metadata": {
        "colab": {
          "base_uri": "https://localhost:8080/"
        },
        "id": "aRFAILI3yhJL",
        "outputId": "0398060e-8d24-49a1-9c6b-57b792e3f50c"
      },
      "execution_count": 41,
      "outputs": [
        {
          "output_type": "stream",
          "name": "stdout",
          "text": [
            "      Name   Age  Salary\n",
            "0    Alice  26.0   50000\n",
            "1      Bob  31.0   60000\n",
            "2  Charlie  36.0   70000\n",
            "======================================\n",
            "      Name   Age  Salary\n",
            "0   Alicia  26.0   50000\n",
            "1   Robert  31.0   60000\n",
            "2  Charlie  36.0   70000\n",
            "======================================\n",
            "      Name   Age  Salary\n",
            "0   ALICIA  26.0   50000\n",
            "1   ROBERT  31.0   60000\n",
            "2  CHARLIE  36.0   70000\n"
          ]
        }
      ]
    },
    {
      "cell_type": "markdown",
      "source": [
        "**Sorting and ranking**"
      ],
      "metadata": {
        "id": "jt5WYuUe0S0d"
      }
    },
    {
      "cell_type": "code",
      "source": [
        "# Sort by column\n",
        "df.sort_values(by='Salary', ascending=False, inplace=True)\n",
        "print(df)\n",
        "print('======================================')\n",
        "# Rank data\n",
        "df['Rank'] = df['Salary'].rank(ascending=False)\n",
        "print(df)"
      ],
      "metadata": {
        "colab": {
          "base_uri": "https://localhost:8080/"
        },
        "id": "cQEm5PhN0SfX",
        "outputId": "e665c24c-ae5e-4312-ea8c-3f90a49fbbc1"
      },
      "execution_count": 42,
      "outputs": [
        {
          "output_type": "stream",
          "name": "stdout",
          "text": [
            "      Name   Age  Salary\n",
            "2  CHARLIE  36.0   70000\n",
            "1   ROBERT  31.0   60000\n",
            "0   ALICIA  26.0   50000\n",
            "======================================\n",
            "      Name   Age  Salary  Rank\n",
            "2  CHARLIE  36.0   70000   1.0\n",
            "1   ROBERT  31.0   60000   2.0\n",
            "0   ALICIA  26.0   50000   3.0\n"
          ]
        }
      ]
    },
    {
      "cell_type": "markdown",
      "source": [
        "**Grouping and aggregation**"
      ],
      "metadata": {
        "id": "z1Hux2vEmvnr"
      }
    },
    {
      "cell_type": "code",
      "source": [
        "# Group by\n",
        "data = {\n",
        "    'Category': ['A', 'A', 'B', 'B', 'C'],\n",
        "    'Sales': [100, 150, 200, 250, 300],\n",
        "    'Region': ['North', 'South', 'North', 'South', 'North']\n",
        "}\n",
        "df = pd.DataFrame(data)\n",
        "\n",
        "# Group by 'Category' and calculate total sales\n",
        "grouped = df.groupby('Category')\n",
        "print(grouped['Sales'].sum())\n"
      ],
      "metadata": {
        "colab": {
          "base_uri": "https://localhost:8080/"
        },
        "id": "SZVvqsbMkYTs",
        "outputId": "f430df5a-877a-4869-a029-0b035527a15b"
      },
      "execution_count": 43,
      "outputs": [
        {
          "output_type": "stream",
          "name": "stdout",
          "text": [
            "Category\n",
            "A    250\n",
            "B    450\n",
            "C    300\n",
            "Name: Sales, dtype: int64\n"
          ]
        }
      ]
    },
    {
      "cell_type": "code",
      "source": [
        "grouped = df.groupby('Category')['Sales'].sum()\n",
        "print(grouped)"
      ],
      "metadata": {
        "colab": {
          "base_uri": "https://localhost:8080/"
        },
        "id": "h-eP2nfvwFYM",
        "outputId": "c3aff9b2-d668-458e-883d-c76126f3611d"
      },
      "execution_count": 44,
      "outputs": [
        {
          "output_type": "stream",
          "name": "stdout",
          "text": [
            "Category\n",
            "A    250\n",
            "B    450\n",
            "C    300\n",
            "Name: Sales, dtype: int64\n"
          ]
        }
      ]
    },
    {
      "cell_type": "code",
      "source": [
        "# Using groupby with agg for multiple aggregations\n",
        "result = df.groupby('Category').agg({\n",
        "    'Sales': ['sum', 'mean'],  # Aggregate sales\n",
        "    'Region': 'count'         # Count occurrences\n",
        "})\n",
        "print(result)"
      ],
      "metadata": {
        "colab": {
          "base_uri": "https://localhost:8080/"
        },
        "id": "jBBAb7NZu71a",
        "outputId": "7f28492a-754b-4f76-b8fc-1016259dc660"
      },
      "execution_count": 45,
      "outputs": [
        {
          "output_type": "stream",
          "name": "stdout",
          "text": [
            "         Sales        Region\n",
            "           sum   mean  count\n",
            "Category                    \n",
            "A          250  125.0      2\n",
            "B          450  225.0      2\n",
            "C          300  300.0      1\n"
          ]
        }
      ]
    },
    {
      "cell_type": "markdown",
      "source": [
        "**Merging and joining**"
      ],
      "metadata": {
        "id": "lVixPW6rmoPy"
      }
    },
    {
      "cell_type": "code",
      "source": [
        "# Merging\n",
        "data = {\n",
        "    'Name': ['Alice', 'Bob', 'Charlie'],\n",
        "    'Age': [25, 30, 35],\n",
        "    'Salary': [50000, 60000, 70000]\n",
        "}\n",
        "df = pd.DataFrame(data)\n",
        "\n",
        "data2 = {'Name': ['Alice', 'Charlie'], 'Department': ['HR', 'Engineering']}\n",
        "df2 = pd.DataFrame(data2)\n",
        "\n",
        "merged = pd.merge(df, df2, on='Name', how='left')\n",
        "print(merged)\n",
        "print('======================================')\n",
        "\n",
        "# Joining\n",
        "df.set_index('Name', inplace=True)\n",
        "df2.set_index('Name', inplace=True)\n",
        "joined = df.join(df2, how='left')\n",
        "print(joined)\n"
      ],
      "metadata": {
        "colab": {
          "base_uri": "https://localhost:8080/"
        },
        "id": "573Nr40Gldir",
        "outputId": "2ef9b773-fc4c-41ac-8a7b-ccd5daf8b28d"
      },
      "execution_count": 46,
      "outputs": [
        {
          "output_type": "stream",
          "name": "stdout",
          "text": [
            "      Name  Age  Salary   Department\n",
            "0    Alice   25   50000           HR\n",
            "1      Bob   30   60000          NaN\n",
            "2  Charlie   35   70000  Engineering\n",
            "======================================\n",
            "         Age  Salary   Department\n",
            "Name                             \n",
            "Alice     25   50000           HR\n",
            "Bob       30   60000          NaN\n",
            "Charlie   35   70000  Engineering\n"
          ]
        }
      ]
    },
    {
      "cell_type": "markdown",
      "source": [
        "**Time series operations**"
      ],
      "metadata": {
        "id": "BKFL_NczmiRz"
      }
    },
    {
      "cell_type": "code",
      "source": [
        "# Convert to datetime\n",
        "df['Join_Date'] = pd.to_datetime(['2021-01-01', '2022-06-15', '2023-03-20'])\n",
        "\n",
        "# Extract year, month\n",
        "df['Year'] = df['Join_Date'].dt.year\n",
        "df['Month'] = df['Join_Date'].dt.month\n",
        "print(df)"
      ],
      "metadata": {
        "colab": {
          "base_uri": "https://localhost:8080/"
        },
        "id": "agozG9vWmhh-",
        "outputId": "623042c8-42e1-47a0-e860-a1b3b914873c"
      },
      "execution_count": 47,
      "outputs": [
        {
          "output_type": "stream",
          "name": "stdout",
          "text": [
            "         Age  Salary  Join_Date  Year  Month\n",
            "Name                                        \n",
            "Alice     25   50000 2021-01-01  2021      1\n",
            "Bob       30   60000 2022-06-15  2022      6\n",
            "Charlie   35   70000 2023-03-20  2023      3\n"
          ]
        }
      ]
    },
    {
      "cell_type": "markdown",
      "source": [
        "**One Hot Encoding**"
      ],
      "metadata": {
        "id": "R0x4-_hAGoKb"
      }
    },
    {
      "cell_type": "code",
      "source": [
        "data = {\n",
        "    'A': ['cat', 'dog', 'cat', 'bird', 'dog'],\n",
        "    'B': ['red', 'blue', 'green', 'red', 'green'],\n",
        "    'C': [1, 2, 3, 4, 5]\n",
        "}\n",
        "df = pd.DataFrame(data)\n",
        "\n",
        "# Convert categorical columns into dummy variables\n",
        "df_dummies=pd.get_dummies(df, columns=['A', 'B'], drop_first=True, dtype=int)\n",
        "print(df_dummies)"
      ],
      "metadata": {
        "colab": {
          "base_uri": "https://localhost:8080/"
        },
        "id": "_KHvcLcuGaPn",
        "outputId": "c98726de-92fd-461d-fe92-25cab605849c"
      },
      "execution_count": 51,
      "outputs": [
        {
          "output_type": "stream",
          "name": "stdout",
          "text": [
            "   C  A_cat  A_dog  B_green  B_red\n",
            "0  1      1      0        0      1\n",
            "1  2      0      1        0      0\n",
            "2  3      1      0        1      0\n",
            "3  4      0      0        0      1\n",
            "4  5      0      1        1      0\n"
          ]
        }
      ]
    }
  ]
}