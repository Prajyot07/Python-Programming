{
  "nbformat": 4,
  "nbformat_minor": 0,
  "metadata": {
    "colab": {
      "provenance": []
    },
    "kernelspec": {
      "name": "python3",
      "display_name": "Python 3"
    },
    "language_info": {
      "name": "python"
    }
  },
  "cells": [
    {
      "cell_type": "markdown",
      "source": [
        "**Integer and float**"
      ],
      "metadata": {
        "id": "eWi0EPiLus05"
      }
    },
    {
      "cell_type": "code",
      "execution_count": null,
      "metadata": {
        "colab": {
          "base_uri": "https://localhost:8080/"
        },
        "id": "zu1TOV3OuRq3",
        "outputId": "3a5fe135-9740-4818-e5c0-8b73b5733216"
      },
      "outputs": [
        {
          "output_type": "stream",
          "name": "stdout",
          "text": [
            "13\n",
            "1000\n",
            "3\n",
            "===========================\n",
            "1\n",
            "7\n",
            "6\n",
            "-6\n",
            "10\n",
            "2\n",
            "===========================\n",
            "5.55\n",
            "5.55\n"
          ]
        }
      ],
      "source": [
        "x, y = 10, 3\n",
        "print(x + y)  # 13\n",
        "print(x ** y)  # 1000\n",
        "print(7 // 2)  # 3\n",
        "\n",
        "print(\"===========================\")\n",
        "a,b = 5, 3\n",
        "print(a & b)  # Binary: 0001 -> Decimal: 1\n",
        "print(a | b)  # Binary: 0111 -> Decimal: 7\n",
        "print(a ^ b)  # Binary: 0110 -> Decimal: 6 (XOR)\n",
        "print(~a)  # Binary: 11111111111111111111111111111101 -> Decimal: -6\n",
        "print(a<<1) # # Shift left by 1 -> Binary: 1010 -> Decimal: 10\n",
        "print(a>>1) # # Shift right by 1 -> Binary: 0010 -> Decimal: 2\n",
        "\n",
        "print(\"===========================\")\n",
        "z = 5.555\n",
        "print(round(z, 2))\n",
        "print(f\"{z:.2f}\")\n"
      ]
    },
    {
      "cell_type": "markdown",
      "source": [
        "**String**"
      ],
      "metadata": {
        "id": "9siKKXiHuvoN"
      }
    },
    {
      "cell_type": "code",
      "source": [
        "s = \"hello world\"\n",
        "print(s.upper())  # HELLO WORLD\n",
        "print(s.replace(\"world\", \"Python\"))  # hello Python\n",
        "print(s[1:4]) #slicing\n",
        "print(len(s))\n",
        "print(s.split()) #split into list of words"
      ],
      "metadata": {
        "colab": {
          "base_uri": "https://localhost:8080/"
        },
        "id": "2aWqQe0Rup5B",
        "outputId": "f3bfbf2a-efc6-4dee-d6fc-e56c09cec4fa"
      },
      "execution_count": null,
      "outputs": [
        {
          "output_type": "stream",
          "name": "stdout",
          "text": [
            "HELLO WORLD\n",
            "hello Python\n",
            "ell\n",
            "11\n",
            "['hello', 'world']\n"
          ]
        }
      ]
    },
    {
      "cell_type": "markdown",
      "source": [
        "**List**"
      ],
      "metadata": {
        "id": "5HWI32KHuxt_"
      }
    },
    {
      "cell_type": "code",
      "source": [
        "lst = [1, 2, 3]\n",
        "lst.append(4)\n",
        "print(lst)  # [1, 2, 3, 4]\n",
        "lst.pop()  # Removes last element\n",
        "print(lst)  # [1, 2, 3]\n",
        "lst.extend([4,5])\n",
        "print(lst) #[1, 2, 3, 4, 5]\n",
        "lst.insert(1, 0)\n",
        "print(lst) #[1, 0, 2, 3, 4, 5]\n",
        "lst.remove(0) #Removes first occurrence of an item\n",
        "print(lst) #[1, 2, 3, 4, 5]\n",
        "lst.pop(0) #Removes and returns an item by index\n",
        "print(lst) #[2, 3, 4, 5]\n",
        "lst.reverse()\n",
        "print(lst) #[5, 4, 3, 2]\n",
        "lst.sort()\n",
        "print(lst) #[2, 3, 4, 5]"
      ],
      "metadata": {
        "colab": {
          "base_uri": "https://localhost:8080/"
        },
        "id": "Wc_QOUv9u2Yq",
        "outputId": "85f52268-7b66-47b2-cbf8-503ced4d0167"
      },
      "execution_count": null,
      "outputs": [
        {
          "output_type": "stream",
          "name": "stdout",
          "text": [
            "[1, 2, 3, 4]\n",
            "[1, 2, 3]\n",
            "[1, 2, 3, 4, 5]\n",
            "[1, 0, 2, 3, 4, 5]\n",
            "[1, 2, 3, 4, 5]\n",
            "[2, 3, 4, 5]\n",
            "[5, 4, 3, 2]\n",
            "[2, 3, 4, 5]\n"
          ]
        }
      ]
    },
    {
      "cell_type": "markdown",
      "source": [
        "**Tuple**\n",
        "(Immutable list)"
      ],
      "metadata": {
        "id": "5mYppIDIu5QO"
      }
    },
    {
      "cell_type": "code",
      "source": [
        "tpl = (1, 2, 3, 2)\n",
        "print(tpl.count(2))  # 2\n",
        "print(tpl.index(3))  # 2"
      ],
      "metadata": {
        "colab": {
          "base_uri": "https://localhost:8080/"
        },
        "id": "T9YeuW54u8Bj",
        "outputId": "5ae7bfac-7f3b-4e87-be69-a6a800bafde5"
      },
      "execution_count": null,
      "outputs": [
        {
          "output_type": "stream",
          "name": "stdout",
          "text": [
            "2\n",
            "2\n"
          ]
        }
      ]
    },
    {
      "cell_type": "markdown",
      "source": [
        "**Set**"
      ],
      "metadata": {
        "id": "kWtFa1uEu_-M"
      }
    },
    {
      "cell_type": "code",
      "source": [
        "s1, s2 = {1, 2, 3}, {3, 4, 5}\n",
        "s1.add(4)\n",
        "s1.remove(4)\n",
        "print(s1 | s2)  # {1, 2, 3, 4, 5} union\n",
        "print(s1 & s2)  # {3} intersection\n",
        "print(s1 - s2)  # {1, 2} difference\n",
        "print(s1 ^ s2)  # {1, 2, 4, 5} symmetric difference"
      ],
      "metadata": {
        "colab": {
          "base_uri": "https://localhost:8080/"
        },
        "id": "FIEqJaXIvCHe",
        "outputId": "03a4f5c4-0f15-4b07-fee6-903b0d3acfb8"
      },
      "execution_count": null,
      "outputs": [
        {
          "output_type": "stream",
          "name": "stdout",
          "text": [
            "{2, 3, 4, 5}\n",
            "{3}\n",
            "{2}\n",
            "{2, 4, 5}\n"
          ]
        }
      ]
    },
    {
      "cell_type": "markdown",
      "source": [
        "**Dictionary**"
      ],
      "metadata": {
        "id": "AHy9gGj7vDzG"
      }
    },
    {
      "cell_type": "code",
      "source": [
        "d = {\"a\": 1, \"b\": 2}\n",
        "print(d.get(\"a\"))  # 1 Gets value by key\n",
        "d[\"c\"] = 3 #Adds or updates key-value pairs\n",
        "print(d)  # {'a': 1, 'b': 2, 'c': 3}\n",
        "d.pop('c') #Removes a key-value pair\n",
        "print(d) #{'a': 1, 'b': 2}\n",
        "print(d.keys())\n",
        "print(d.values())\n",
        "print(d.items()) #Returns key-value pairs as tuples"
      ],
      "metadata": {
        "colab": {
          "base_uri": "https://localhost:8080/"
        },
        "id": "affxqSscvHz9",
        "outputId": "f7f94adf-7977-4ac5-aa58-d5c287d005f9"
      },
      "execution_count": null,
      "outputs": [
        {
          "output_type": "stream",
          "name": "stdout",
          "text": [
            "1\n",
            "{'a': 1, 'b': 2, 'c': 3}\n",
            "{'a': 1, 'b': 2}\n",
            "dict_keys(['a', 'b'])\n",
            "dict_values([1, 2])\n",
            "dict_items([('a', 1), ('b', 2)])\n"
          ]
        }
      ]
    }
  ]
}