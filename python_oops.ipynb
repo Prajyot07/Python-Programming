{
  "nbformat": 4,
  "nbformat_minor": 0,
  "metadata": {
    "colab": {
      "provenance": []
    },
    "kernelspec": {
      "name": "python3",
      "display_name": "Python 3"
    },
    "language_info": {
      "name": "python"
    }
  },
  "cells": [
    {
      "cell_type": "markdown",
      "source": [
        "**Class and Object**"
      ],
      "metadata": {
        "id": "93ZE6mR7RNyo"
      }
    },
    {
      "cell_type": "code",
      "source": [
        "class Animal:\n",
        "    def __init__(self, name):  # Constructor\n",
        "        self.name = name  # Attribute\n",
        "\n",
        "    def speak(self):  # Method\n",
        "        return f\"{self.name} makes a sound.\"\n",
        "\n",
        "# Usage\n",
        "dog = Animal(\"Dog\")\n",
        "print(dog.speak())  # Output: Dog makes a sound."
      ],
      "metadata": {
        "colab": {
          "base_uri": "https://localhost:8080/"
        },
        "id": "RMlLgVCQQj-1",
        "outputId": "e3868a8a-ff34-42f3-c60e-1abe69b1249a"
      },
      "execution_count": 1,
      "outputs": [
        {
          "output_type": "stream",
          "name": "stdout",
          "text": [
            "Dog makes a sound.\n"
          ]
        }
      ]
    },
    {
      "cell_type": "markdown",
      "source": [
        "**Inheritance**"
      ],
      "metadata": {
        "id": "GqivnIkMSOpN"
      }
    },
    {
      "cell_type": "code",
      "execution_count": 2,
      "metadata": {
        "colab": {
          "base_uri": "https://localhost:8080/"
        },
        "id": "TpGlT-KjpTU-",
        "outputId": "ed21713d-80d0-4ccf-db4e-30e379aae702"
      },
      "outputs": [
        {
          "output_type": "stream",
          "name": "stdout",
          "text": [
            "Buddy barks.\n"
          ]
        }
      ],
      "source": [
        "class Animal:\n",
        "    def __init__(self, name):\n",
        "        self.name = name\n",
        "\n",
        "    def speak(self):\n",
        "        return f\"{self.name} makes a sound.\"\n",
        "\n",
        "class Dog(Animal):  # Inheriting Animal\n",
        "    def speak(self):  # Overriding method\n",
        "        return f\"{self.name} barks.\"\n",
        "\n",
        "# Usage\n",
        "dog = Dog(\"Buddy\")\n",
        "print(dog.speak())  # Output: Buddy barks.\n"
      ]
    },
    {
      "cell_type": "code",
      "source": [
        "#Multilevel Inheritance\n",
        "class Animal:\n",
        "    def speak(self):\n",
        "        print(\"Animal Speaking\")\n",
        "#The child class Dog inherits the base class Animal\n",
        "class Dog(Animal):\n",
        "    def bark(self):\n",
        "        print(\"dog barking\")\n",
        "#The child class Dogchild inherits another child class Dog\n",
        "class DogChild(Dog):\n",
        "    def eat(self):\n",
        "        print(\"Eating bread...\")\n",
        "d = DogChild()\n",
        "d.bark()\n",
        "d.speak()\n",
        "d.eat()"
      ],
      "metadata": {
        "colab": {
          "base_uri": "https://localhost:8080/"
        },
        "id": "JenkB2lETGG5",
        "outputId": "11445ac7-2969-4dc6-8766-d67e5888fa7a"
      },
      "execution_count": 3,
      "outputs": [
        {
          "output_type": "stream",
          "name": "stdout",
          "text": [
            "dog barking\n",
            "Animal Speaking\n",
            "Eating bread...\n"
          ]
        }
      ]
    },
    {
      "cell_type": "code",
      "source": [
        "#Multiple Inheritance\n",
        "class Calculation1:\n",
        "    def Summation(self,a,b):\n",
        "        return a+b;\n",
        "class Calculation2:\n",
        "    def Multiplication(self,a,b):\n",
        "        return a*b;\n",
        "class Derived(Calculation1,Calculation2):\n",
        "    def Divide(self,a,b):\n",
        "        return a/b;\n",
        "d = Derived()\n",
        "print(d.Summation(10,20))\n",
        "print(d.Multiplication(10,20))\n",
        "print(d.Divide(10,20))"
      ],
      "metadata": {
        "colab": {
          "base_uri": "https://localhost:8080/"
        },
        "id": "5OlD7nk-TnUJ",
        "outputId": "0d84c90a-340b-47ee-a9c0-dd97cbc5c1e3"
      },
      "execution_count": 4,
      "outputs": [
        {
          "output_type": "stream",
          "name": "stdout",
          "text": [
            "30\n",
            "200\n",
            "0.5\n"
          ]
        }
      ]
    },
    {
      "cell_type": "markdown",
      "source": [
        "**Polymorphism**\n",
        "\n",
        "Polymorphism allows methods to be used interchangeably in different classes.\n",
        "\n",
        "Method overloading and overriding are both techniques used to achieve polymorphism.\n",
        "\n"
      ],
      "metadata": {
        "id": "aFsVe6EGY0z5"
      }
    },
    {
      "cell_type": "code",
      "source": [
        "#polymorphism by methon overriding\n",
        "class Animal:\n",
        "    def sound(self):\n",
        "        return \"Animals make sounds\"\n",
        "\n",
        "class Dog(Animal):\n",
        "    def sound(self):  # Overriding the parent class method\n",
        "        return \"Dog barks\"\n",
        "\n",
        "class Cat(Animal):\n",
        "    def sound(self):  # Overriding the parent class method\n",
        "        return \"Cat meows\"\n",
        "\n",
        "# Usage\n",
        "animals = [Dog(), Cat()]\n",
        "\n",
        "for animal in animals:\n",
        "    print(animal.sound())\n",
        "\n"
      ],
      "metadata": {
        "colab": {
          "base_uri": "https://localhost:8080/"
        },
        "id": "fxqbZT-WYqI7",
        "outputId": "46ed507d-825f-479d-c7b5-37e44f70c343"
      },
      "execution_count": 5,
      "outputs": [
        {
          "output_type": "stream",
          "name": "stdout",
          "text": [
            "Dog barks\n",
            "Cat meows\n"
          ]
        }
      ]
    },
    {
      "cell_type": "code",
      "source": [
        "#Polymorphism by standalone function\n",
        "class Bird:\n",
        "    def speak(self):\n",
        "        return \"Chirp\"\n",
        "\n",
        "class Dog:\n",
        "    def speak(self):\n",
        "        return \"Bark\"\n",
        "\n",
        "def animal_sound(animal):\n",
        "    print(animal.speak())\n",
        "\n",
        "# Usage\n",
        "bird = Bird()\n",
        "dog = Dog()\n",
        "animal_sound(bird)  # Output: Chirp\n",
        "animal_sound(dog)   # Output: Bark\n"
      ],
      "metadata": {
        "colab": {
          "base_uri": "https://localhost:8080/"
        },
        "id": "pFLnc5_UYVe_",
        "outputId": "0a66d3f3-beec-4897-de58-d6a60fea2a2e"
      },
      "execution_count": 6,
      "outputs": [
        {
          "output_type": "stream",
          "name": "stdout",
          "text": [
            "Chirp\n",
            "Bark\n"
          ]
        }
      ]
    },
    {
      "cell_type": "markdown",
      "source": [
        "**Method Overloading**\n",
        "\n",
        "Method overloading is a feature where multiple methods in the same class share the same name but differ in the number or type of arguments.\n",
        "\n",
        "Python does not directly support method overloading because functions in Python are dynamically typed and can have default arguments."
      ],
      "metadata": {
        "id": "Tj6fzV7uaoF5"
      }
    },
    {
      "cell_type": "code",
      "source": [
        "class Calculator:\n",
        "    def add(self, a, b=0, c=0):  # Default arguments mimic overloading\n",
        "        return a + b + c\n",
        "\n",
        "# Usage\n",
        "calc = Calculator()\n",
        "print(calc.add(5))        # Output: 5\n",
        "print(calc.add(5, 10))    # Output: 15\n",
        "print(calc.add(5, 10, 20))  # Output: 35\n"
      ],
      "metadata": {
        "colab": {
          "base_uri": "https://localhost:8080/"
        },
        "id": "2oo07uVpcasX",
        "outputId": "4dea0694-444e-4473-8598-6f488a1b63a9"
      },
      "execution_count": 7,
      "outputs": [
        {
          "output_type": "stream",
          "name": "stdout",
          "text": [
            "5\n",
            "15\n",
            "35\n"
          ]
        }
      ]
    },
    {
      "cell_type": "markdown",
      "source": [
        "**Abstraction**\n",
        "\n",
        "A class that consists of one or more abstract method is called the abstract class. Abstract methods do not contain their implementation. Abstract class can be inherited by the subclass and abstract method gets its definition in the subclass. Abstraction classes are meant to be the blueprint of the other class. An abstract class can be useful when we are designing large functions. An abstract class is also helpful to provide the standard interface for different implementations of components. Python provides the abc module to use the abstraction in the Python program.\n",
        "\n",
        "An Abstract class can contain the both method normal and abstract method.\n",
        "\n",
        "An Abstract cannot be instantiated; we cannot create objects for the abstract class."
      ],
      "metadata": {
        "id": "aXsQwhnfU8dI"
      }
    },
    {
      "cell_type": "code",
      "source": [
        "from abc import ABC, abstractmethod\n",
        "class Car(ABC):\n",
        "    def mileage(self):\n",
        "        pass\n",
        "\n",
        "class Tesla(Car):\n",
        "    def mileage(self):\n",
        "        print(\"The mileage is 30kmph\")\n",
        "class Suzuki(Car):\n",
        "    def mileage(self):\n",
        "        print(\"The mileage is 25kmph \")\n",
        "class Duster(Car):\n",
        "     def mileage(self):\n",
        "          print(\"The mileage is 24kmph \")\n",
        "\n",
        "class Renault(Car):\n",
        "    def mileage(self):\n",
        "            print(\"The mileage is 27kmph \")\n",
        "\n",
        "# Driver code\n",
        "t= Tesla ()\n",
        "t.mileage()\n",
        "\n",
        "r = Renault()\n",
        "r.mileage()\n",
        "\n",
        "s = Suzuki()\n",
        "s.mileage()\n",
        "d = Duster()\n",
        "d.mileage()\n"
      ],
      "metadata": {
        "colab": {
          "base_uri": "https://localhost:8080/"
        },
        "id": "Cc45hvfCVBLE",
        "outputId": "5e1372e9-039c-4999-f9a8-89c880a4344f"
      },
      "execution_count": 8,
      "outputs": [
        {
          "output_type": "stream",
          "name": "stdout",
          "text": [
            "The mileage is 30kmph\n",
            "The mileage is 27kmph \n",
            "The mileage is 25kmph \n",
            "The mileage is 24kmph \n"
          ]
        }
      ]
    },
    {
      "cell_type": "markdown",
      "source": [
        "**Encapsulation**\n",
        "\n",
        "Encapsulation is a fundamental principle of object-oriented programming (OOP) that involves bundling data (attributes) and methods (functions) that operate on that data within a single unit, typically a class. Encapsulation also restricts direct access to some of the object's components, which is a mechanism to enforce data protection and abstraction.\n",
        "\n",
        "In Python, encapsulation is implemented using access modifiers to define the accessibility of class attributes and methods.\n",
        "\n",
        "\n",
        "Encapsulation in Python is achieved using access specifiers to control how the attributes and methods of a class can be accessed:\n",
        "\n",
        "**Public Members:**\n",
        "These are accessible from anywhere (inside or outside the class).\n",
        "By default, all class attributes and methods are public.\n",
        "\n",
        "**Protected Members:**\n",
        "These are indicated by a single underscore _attribute.\n",
        "They are intended to be accessible only within the class and its subclasses (not enforced but by convention).\n",
        "\n",
        "**Private Members:**\n",
        "These are indicated by a double underscore __attribute.\n",
        "They are accessible only within the class and are name-mangled to prevent accidental access from outside."
      ],
      "metadata": {
        "id": "kYaf9vWUiKvB"
      }
    },
    {
      "cell_type": "code",
      "source": [
        "#Accessing public attribute & method\n",
        "class Vehicle:\n",
        "    def __init__(self, brand):\n",
        "        self.brand = brand  # Public attribute\n",
        "\n",
        "    def display_brand(self):\n",
        "        return f\"Brand: {self.brand}\"  # Public method\n",
        "\n",
        "# Usage\n",
        "car = Vehicle(\"Toyota\")\n",
        "print(car.brand)  # Accessing public attribute\n",
        "print(car.display_brand())  # Accessing public method\n"
      ],
      "metadata": {
        "colab": {
          "base_uri": "https://localhost:8080/"
        },
        "id": "YHr-poBeivnA",
        "outputId": "ba8da6b2-f5f1-4991-b44f-a00625ae69a3"
      },
      "execution_count": 9,
      "outputs": [
        {
          "output_type": "stream",
          "name": "stdout",
          "text": [
            "Toyota\n",
            "Brand: Toyota\n"
          ]
        }
      ]
    },
    {
      "cell_type": "code",
      "source": [
        "#Accessing protected attribute & method\n",
        "class Vehicle:\n",
        "    def __init__(self, brand, model):\n",
        "        self._brand = brand  # Protected attribute\n",
        "        self._model = model  # Protected attribute\n",
        "\n",
        "    def _protected_method(self):\n",
        "        return f\"{self._brand} {self._model}\"  # Protected method\n",
        "\n",
        "class Car(Vehicle):\n",
        "    def get_info(self):\n",
        "        return self._protected_method()  # Accessible in a subclass\n",
        "\n",
        "# Usage\n",
        "car = Car(\"Toyota\", \"Camry\")\n",
        "print(car.get_info())  # # Accessing protected method\n",
        "print(car._brand)  # # Accessing protected attribute\n"
      ],
      "metadata": {
        "colab": {
          "base_uri": "https://localhost:8080/"
        },
        "id": "37t1Ubg2i7I1",
        "outputId": "bed51d45-eb8d-42a7-9505-3445e9aa7548"
      },
      "execution_count": 10,
      "outputs": [
        {
          "output_type": "stream",
          "name": "stdout",
          "text": [
            "Toyota Camry\n",
            "Toyota\n"
          ]
        }
      ]
    },
    {
      "cell_type": "code",
      "source": [
        "#Accessing private attribute and method\n",
        "class BankAccount:\n",
        "    def __init__(self, account_holder, balance):\n",
        "        self.__account_holder = account_holder  # Private attribute\n",
        "        self.__balance = balance  # Private attribute\n",
        "\n",
        "    def deposit(self, amount):\n",
        "        if amount > 0:\n",
        "            self.__balance += amount\n",
        "            print(f\"Deposited: {amount}\")\n",
        "        else:\n",
        "            print(\"Invalid amount!\")\n",
        "\n",
        "    def get_balance(self):\n",
        "        return f\"Balance: {self.__balance}\"  # Accessing private attribute internally\n",
        "\n",
        "# Usage\n",
        "account = BankAccount(\"Alice\", 1000)\n",
        "account.deposit(500)\n",
        "print(account.get_balance())  # Accessing private method\n",
        "#print(account.__balance)  # Accessing private method (Raises an AttributeError)\n"
      ],
      "metadata": {
        "colab": {
          "base_uri": "https://localhost:8080/"
        },
        "id": "pI324LBHj1OQ",
        "outputId": "d92a1f69-bbe6-4f23-ce09-5f9525143617"
      },
      "execution_count": 11,
      "outputs": [
        {
          "output_type": "stream",
          "name": "stdout",
          "text": [
            "Deposited: 500\n",
            "Balance: 1500\n"
          ]
        }
      ]
    },
    {
      "cell_type": "code",
      "source": [
        "#Name mangling to access private attribute\n",
        "class Example:\n",
        "    def __init__(self):\n",
        "        self.__private_attribute = \"Private\"\n",
        "\n",
        "    def show_private(self):\n",
        "        return self.__private_attribute\n",
        "\n",
        "# Usage\n",
        "obj = Example()\n",
        "print(obj.show_private())  # Output: Private\n",
        "# print(obj.__private_attribute)  # Raises AttributeError\n",
        "\n",
        "# Access through name mangling\n",
        "print(obj._Example__private_attribute)  # Output: Private\n"
      ],
      "metadata": {
        "colab": {
          "base_uri": "https://localhost:8080/"
        },
        "id": "YL5hIwp2lX58",
        "outputId": "a5387748-7fb9-47be-ae70-1cfc6f70d5a0"
      },
      "execution_count": 12,
      "outputs": [
        {
          "output_type": "stream",
          "name": "stdout",
          "text": [
            "Private\n",
            "Private\n"
          ]
        }
      ]
    },
    {
      "cell_type": "code",
      "source": [
        "#Getter and setter to ccess private attributes\n",
        "class Person:\n",
        "    def __init__(self, name, age):\n",
        "        self.__name = name  # Private attribute\n",
        "        self.__age = age    # Private attribute\n",
        "\n",
        "    # Getter for name\n",
        "    def get_name(self):\n",
        "        return self.__name\n",
        "\n",
        "    # Setter for name\n",
        "    def set_name(self, name):\n",
        "        if name:\n",
        "            self.__name = name\n",
        "        else:\n",
        "            print(\"Invalid name!\")\n",
        "\n",
        "    # Getter for age\n",
        "    def get_age(self):\n",
        "        return self.__age\n",
        "\n",
        "    # Setter for age\n",
        "    def set_age(self, age):\n",
        "        if age > 0:\n",
        "            self.__age = age\n",
        "        else:\n",
        "            print(\"Invalid age!\")\n",
        "\n",
        "# Usage\n",
        "person = Person(\"Alice\", 25)\n",
        "print(person.get_name())  # Output: Alice\n",
        "person.set_age(30)\n",
        "print(person.get_age())  # Output: 30\n"
      ],
      "metadata": {
        "colab": {
          "base_uri": "https://localhost:8080/"
        },
        "id": "kLiJrb7klrnq",
        "outputId": "220a4566-1df4-4fc9-c4de-88112478354c"
      },
      "execution_count": 13,
      "outputs": [
        {
          "output_type": "stream",
          "name": "stdout",
          "text": [
            "Alice\n",
            "30\n"
          ]
        }
      ]
    },
    {
      "cell_type": "markdown",
      "source": [
        "**Class and Static Method**\n",
        "\n",
        "A class method is a method that is bound to the class and not the instance of the class (object). It takes the class (cls) as its first parameter, instead of self, which refers to the instance.Defined using the *@classmethod* decorator.\n",
        "\n",
        "**USE**: When you need to work with class-level variables.\n",
        "When you want a method to act on the class itself (e.g., factory methods).\n",
        "\n",
        "A static method is a method that does not depend on the class or instance for its operation. It behaves like a regular function but resides in the class's namespace. It does not take self or cls as a parameter.Defined using the *@staticmethod* decorator.\n",
        "\n",
        "**USE**: When you need utility methods that are related to the class but do not depend on the class or instance data.\n",
        "To keep helper functions logically grouped within the class's namespace."
      ],
      "metadata": {
        "id": "BgyVWSjDeJ4P"
      }
    },
    {
      "cell_type": "code",
      "source": [
        "#class method\n",
        "class Employee:\n",
        "    company_name = \"TechCorp\"  # Class-level variable\n",
        "\n",
        "    def __init__(self, name, age): #constructor\n",
        "        self.name = name\n",
        "        self.age = age\n",
        "\n",
        "    @classmethod\n",
        "    def change_company_name(cls, new_name):\n",
        "        cls.company_name = new_name  # Modifies the class-level variable\n",
        "\n",
        "# Usage\n",
        "Employee.change_company_name(\"NewTechCorp\")\n",
        "print(Employee.company_name)  # Output: NewTechCorp\n"
      ],
      "metadata": {
        "colab": {
          "base_uri": "https://localhost:8080/"
        },
        "id": "YaiPFHBUW8zE",
        "outputId": "cde9dd9c-cead-4e13-a6a9-39b51baf63b0"
      },
      "execution_count": 14,
      "outputs": [
        {
          "output_type": "stream",
          "name": "stdout",
          "text": [
            "NewTechCorp\n"
          ]
        }
      ]
    },
    {
      "cell_type": "code",
      "source": [
        "#Static method\n",
        "class Calculator:\n",
        "    @staticmethod\n",
        "    def add(a, b):\n",
        "        return a + b\n",
        "\n",
        "    @staticmethod\n",
        "    def subtract(a, b):\n",
        "        return a - b\n",
        "\n",
        "# Usage\n",
        "print(Calculator.add(5, 3))      # Output: 8\n",
        "print(Calculator.subtract(10, 4))  # Output: 6\n"
      ],
      "metadata": {
        "colab": {
          "base_uri": "https://localhost:8080/"
        },
        "id": "OcqyZG6Beghh",
        "outputId": "71a2d5ee-9b5f-4c58-f90c-c32ebe08052d"
      },
      "execution_count": 15,
      "outputs": [
        {
          "output_type": "stream",
          "name": "stdout",
          "text": [
            "8\n",
            "6\n"
          ]
        }
      ]
    },
    {
      "cell_type": "code",
      "source": [
        "class Employee:\n",
        "    company_name = \"TechCorp\"\n",
        "    employee_count = 0\n",
        "\n",
        "    def __init__(self, name):\n",
        "        self.name = name\n",
        "        Employee.employee_count += 1\n",
        "\n",
        "    @classmethod\n",
        "    def update_company_name(cls, name):\n",
        "        cls.company_name = name  # Modify class-level variable\n",
        "\n",
        "    @staticmethod\n",
        "    def is_adult(age):\n",
        "        return age >= 18  # Utility method to check adulthood\n",
        "\n",
        "# Class Method\n",
        "Employee.update_company_name(\"InnovativeTech\")\n",
        "print(Employee.company_name)  # Output: InnovativeTech\n",
        "\n",
        "# Static Method\n",
        "print(Employee.is_adult(20))  # Output: True\n",
        "print(Employee.is_adult(16))  # Output: False\n"
      ],
      "metadata": {
        "colab": {
          "base_uri": "https://localhost:8080/"
        },
        "id": "L0VBiUcsftVJ",
        "outputId": "d4eb7b05-6baf-4d7e-991d-ecd32891b5ba"
      },
      "execution_count": 16,
      "outputs": [
        {
          "output_type": "stream",
          "name": "stdout",
          "text": [
            "InnovativeTech\n",
            "True\n",
            "False\n"
          ]
        }
      ]
    }
  ]
}